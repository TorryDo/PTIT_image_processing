{
 "cells": [
  {
   "cell_type": "code",
   "execution_count": 1,
   "metadata": {},
   "outputs": [],
   "source": [
    "import numpy as np\n",
    "import matplotlib.pyplot as plt\n",
    "import cv2\n",
    "\n",
    "import pathlib"
   ]
  },
  {
   "cell_type": "code",
   "execution_count": 2,
   "metadata": {},
   "outputs": [],
   "source": [
    "dental_jpg = pathlib.Path('../../assets/hw1/dental.jpg')\n",
    "moon_jpg = pathlib.Path('../../assets/hw1/moon.jpg')\n",
    "parrot_jpg = pathlib.Path('../../assets/hw1/parrot.jpg')\n",
    "skull_jpg = pathlib.Path('../../assets/hw1/skull.jpg')"
   ]
  },
  {
   "cell_type": "code",
   "execution_count": 3,
   "metadata": {},
   "outputs": [],
   "source": [
    "dental = cv2.imread('../../assets/hw1/dental.jpg', 0)\n",
    "cv2.imshow('dental', dental)\n",
    "\n",
    "cv2.waitKey(0) \n",
    "\n",
    "cv2.destroyAllWindows() "
   ]
  }
 ],
 "metadata": {
  "kernelspec": {
   "display_name": "PTIT_xla",
   "language": "python",
   "name": "python3"
  },
  "language_info": {
   "codemirror_mode": {
    "name": "ipython",
    "version": 3
   },
   "file_extension": ".py",
   "mimetype": "text/x-python",
   "name": "python",
   "nbconvert_exporter": "python",
   "pygments_lexer": "ipython3",
   "version": "3.11.5"
  }
 },
 "nbformat": 4,
 "nbformat_minor": 2
}
