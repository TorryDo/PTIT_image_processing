{
 "cells": [
  {
   "cell_type": "code",
   "execution_count": 1,
   "metadata": {},
   "outputs": [],
   "source": [
    "import cv2"
   ]
  },
  {
   "cell_type": "code",
   "execution_count": 2,
   "metadata": {},
   "outputs": [],
   "source": [
    "lena512color_img_path = '../../assets/lena512color.jpg'"
   ]
  },
  {
   "cell_type": "code",
   "execution_count": 4,
   "metadata": {},
   "outputs": [
    {
     "ename": "AttributeError",
     "evalue": "'NoneType' object has no attribute 'copy'",
     "output_type": "error",
     "traceback": [
      "\u001b[1;31m---------------------------------------------------------------------------\u001b[0m",
      "\u001b[1;31mAttributeError\u001b[0m                            Traceback (most recent call last)",
      "\u001b[1;32md:\\project\\python\\PTIT_image_processing\\src\\hw2\\c3.ipynb Cell 3\u001b[0m line \u001b[0;36m3\n\u001b[0;32m      <a href='vscode-notebook-cell:/d%3A/project/python/PTIT_image_processing/src/hw2/c3.ipynb#W2sZmlsZQ%3D%3D?line=0'>1</a>\u001b[0m J1 \u001b[39m=\u001b[39m cv2\u001b[39m.\u001b[39mimread(lena512color_img_path)\n\u001b[1;32m----> <a href='vscode-notebook-cell:/d%3A/project/python/PTIT_image_processing/src/hw2/c3.ipynb#W2sZmlsZQ%3D%3D?line=2'>3</a>\u001b[0m J2 \u001b[39m=\u001b[39m J1\u001b[39m.\u001b[39;49mcopy()\n\u001b[0;32m      <a href='vscode-notebook-cell:/d%3A/project/python/PTIT_image_processing/src/hw2/c3.ipynb#W2sZmlsZQ%3D%3D?line=3'>4</a>\u001b[0m J2[:, :, \u001b[39m0\u001b[39m] \u001b[39m=\u001b[39m J1[:, :, \u001b[39m2\u001b[39m]  \u001b[39m# Red band of J2 = Blue band of J1\u001b[39;00m\n\u001b[0;32m      <a href='vscode-notebook-cell:/d%3A/project/python/PTIT_image_processing/src/hw2/c3.ipynb#W2sZmlsZQ%3D%3D?line=4'>5</a>\u001b[0m J2[:, :, \u001b[39m2\u001b[39m] \u001b[39m=\u001b[39m J1[:, :, \u001b[39m0\u001b[39m]  \u001b[39m# Blue band of J2 = Red band of J1\u001b[39;00m\n",
      "\u001b[1;31mAttributeError\u001b[0m: 'NoneType' object has no attribute 'copy'"
     ]
    }
   ],
   "source": [
    "J1 = cv2.imread(lena512color_img_path)\n",
    "\n",
    "J2 = J1.copy()\n",
    "J2[:, :, 0] = J1[:, :, 2]  # Red band of J2 = Blue band of J1\n",
    "J2[:, :, 2] = J1[:, :, 0]  # Blue band of J2 = Red band of J1\n",
    "\n",
    "cv2.imshow('J2', J2)\n",
    "cv2.imwrite('J2_color.jpg', J2)\n",
    "cv2.waitKey(0)\n",
    "cv2.destroyAllWindows()"
   ]
  }
 ],
 "metadata": {
  "kernelspec": {
   "display_name": "image_processing",
   "language": "python",
   "name": "python3"
  },
  "language_info": {
   "codemirror_mode": {
    "name": "ipython",
    "version": 3
   },
   "file_extension": ".py",
   "mimetype": "text/x-python",
   "name": "python",
   "nbconvert_exporter": "python",
   "pygments_lexer": "ipython3",
   "version": "3.11.5"
  }
 },
 "nbformat": 4,
 "nbformat_minor": 2
}
