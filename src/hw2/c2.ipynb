{
 "cells": [
  {
   "cell_type": "code",
   "execution_count": 8,
   "metadata": {},
   "outputs": [],
   "source": [
    "import cv2"
   ]
  },
  {
   "cell_type": "code",
   "execution_count": 9,
   "metadata": {},
   "outputs": [
    {
     "name": "stdout",
     "output_type": "stream",
     "text": [
      "Help on built-in function imread:\n",
      "\n",
      "imread(...)\n",
      "    imread(filename[, flags]) -> retval\n",
      "    .   @brief Loads an image from a file.\n",
      "    .   \n",
      "    .   @anchor imread\n",
      "    .   \n",
      "    .   The function imread loads an image from the specified file and returns it. If the image cannot be\n",
      "    .   read (because of missing file, improper permissions, unsupported or invalid format), the function\n",
      "    .   returns an empty matrix ( Mat::data==NULL ).\n",
      "    .   \n",
      "    .   Currently, the following file formats are supported:\n",
      "    .   \n",
      "    .   -   Windows bitmaps - \\*.bmp, \\*.dib (always supported)\n",
      "    .   -   JPEG files - \\*.jpeg, \\*.jpg, \\*.jpe (see the *Note* section)\n",
      "    .   -   JPEG 2000 files - \\*.jp2 (see the *Note* section)\n",
      "    .   -   Portable Network Graphics - \\*.png (see the *Note* section)\n",
      "    .   -   WebP - \\*.webp (see the *Note* section)\n",
      "    .   -   AVIF - \\*.avif (see the *Note* section)\n",
      "    .   -   Portable image format - \\*.pbm, \\*.pgm, \\*.ppm \\*.pxm, \\*.pnm (always supported)\n",
      "    .   -   PFM files - \\*.pfm (see the *Note* section)\n",
      "    .   -   Sun rasters - \\*.sr, \\*.ras (always supported)\n",
      "    .   -   TIFF files - \\*.tiff, \\*.tif (see the *Note* section)\n",
      "    .   -   OpenEXR Image files - \\*.exr (see the *Note* section)\n",
      "    .   -   Radiance HDR - \\*.hdr, \\*.pic (always supported)\n",
      "    .   -   Raster and Vector geospatial data supported by GDAL (see the *Note* section)\n",
      "    .   \n",
      "    .   @note\n",
      "    .   -   The function determines the type of an image by the content, not by the file extension.\n",
      "    .   -   In the case of color images, the decoded images will have the channels stored in **B G R** order.\n",
      "    .   -   When using IMREAD_GRAYSCALE, the codec's internal grayscale conversion will be used, if available.\n",
      "    .       Results may differ to the output of cvtColor()\n",
      "    .   -   On Microsoft Windows\\* OS and MacOSX\\*, the codecs shipped with an OpenCV image (libjpeg,\n",
      "    .       libpng, libtiff, and libjasper) are used by default. So, OpenCV can always read JPEGs, PNGs,\n",
      "    .       and TIFFs. On MacOSX, there is also an option to use native MacOSX image readers. But beware\n",
      "    .       that currently these native image loaders give images with different pixel values because of\n",
      "    .       the color management embedded into MacOSX.\n",
      "    .   -   On Linux\\*, BSD flavors and other Unix-like open-source operating systems, OpenCV looks for\n",
      "    .       codecs supplied with an OS image. Install the relevant packages (do not forget the development\n",
      "    .       files, for example, \"libjpeg-dev\", in Debian\\* and Ubuntu\\*) to get the codec support or turn\n",
      "    .       on the OPENCV_BUILD_3RDPARTY_LIBS flag in CMake.\n",
      "    .   -   In the case you set *WITH_GDAL* flag to true in CMake and @ref IMREAD_LOAD_GDAL to load the image,\n",
      "    .       then the [GDAL](http://www.gdal.org) driver will be used in order to decode the image, supporting\n",
      "    .       the following formats: [Raster](http://www.gdal.org/formats_list.html),\n",
      "    .       [Vector](http://www.gdal.org/ogr_formats.html).\n",
      "    .   -   If EXIF information is embedded in the image file, the EXIF orientation will be taken into account\n",
      "    .       and thus the image will be rotated accordingly except if the flags @ref IMREAD_IGNORE_ORIENTATION\n",
      "    .       or @ref IMREAD_UNCHANGED are passed.\n",
      "    .   -   Use the IMREAD_UNCHANGED flag to keep the floating point values from PFM image.\n",
      "    .   -   By default number of pixels must be less than 2^30. Limit can be set using system\n",
      "    .       variable OPENCV_IO_MAX_IMAGE_PIXELS\n",
      "    .   \n",
      "    .   @param filename Name of file to be loaded.\n",
      "    .   @param flags Flag that can take values of cv::ImreadModes\n",
      "\n",
      "Help on built-in function imwrite:\n",
      "\n",
      "imwrite(...)\n",
      "    imwrite(filename, img[, params]) -> retval\n",
      "    .   @brief Saves an image to a specified file.\n",
      "    .   \n",
      "    .   The function imwrite saves the image to the specified file. The image format is chosen based on the\n",
      "    .   filename extension (see cv::imread for the list of extensions). In general, only 8-bit unsigned (CV_8U)\n",
      "    .   single-channel or 3-channel (with 'BGR' channel order) images\n",
      "    .   can be saved using this function, with these exceptions:\n",
      "    .   \n",
      "    .   - With OpenEXR encoder, only 32-bit float (CV_32F) images can be saved.\n",
      "    .     - 8-bit unsigned (CV_8U) images are not supported.\n",
      "    .   - With Radiance HDR encoder, non 64-bit float (CV_64F) images can be saved.\n",
      "    .     - All images will be converted to 32-bit float (CV_32F).\n",
      "    .   - With JPEG 2000 encoder, 8-bit unsigned (CV_8U) and 16-bit unsigned (CV_16U) images can be saved.\n",
      "    .   - With PAM encoder, 8-bit unsigned (CV_8U) and 16-bit unsigned (CV_16U) images can be saved.\n",
      "    .   - With PNG encoder, 8-bit unsigned (CV_8U) and 16-bit unsigned (CV_16U) images can be saved.\n",
      "    .     - PNG images with an alpha channel can be saved using this function. To do this, create\n",
      "    .       8-bit (or 16-bit) 4-channel image BGRA, where the alpha channel goes last. Fully transparent pixels\n",
      "    .       should have alpha set to 0, fully opaque pixels should have alpha set to 255/65535 (see the code sample below).\n",
      "    .   - With PGM/PPM encoder, 8-bit unsigned (CV_8U) and 16-bit unsigned (CV_16U) images can be saved.\n",
      "    .   - With TIFF encoder, 8-bit unsigned (CV_8U), 16-bit unsigned (CV_16U),\n",
      "    .                        32-bit float (CV_32F) and 64-bit float (CV_64F) images can be saved.\n",
      "    .     - Multiple images (vector of Mat) can be saved in TIFF format (see the code sample below).\n",
      "    .     - 32-bit float 3-channel (CV_32FC3) TIFF images will be saved\n",
      "    .       using the LogLuv high dynamic range encoding (4 bytes per pixel)\n",
      "    .   \n",
      "    .   If the image format is not supported, the image will be converted to 8-bit unsigned (CV_8U) and saved that way.\n",
      "    .   \n",
      "    .   If the format, depth or channel order is different, use\n",
      "    .   Mat::convertTo and cv::cvtColor to convert it before saving. Or, use the universal FileStorage I/O\n",
      "    .   functions to save the image to XML or YAML format.\n",
      "    .   \n",
      "    .   The sample below shows how to create a BGRA image, how to set custom compression parameters and save it to a PNG file.\n",
      "    .   It also demonstrates how to save multiple images in a TIFF file:\n",
      "    .   @include snippets/imgcodecs_imwrite.cpp\n",
      "    .   @param filename Name of the file.\n",
      "    .   @param img (Mat or vector of Mat) Image or Images to be saved.\n",
      "    .   @param params Format-specific parameters encoded as pairs (paramId_1, paramValue_1, paramId_2, paramValue_2, ... .) see cv::ImwriteFlags\n",
      "\n"
     ]
    }
   ],
   "source": [
    "# a, help\n",
    "help(cv2.imread)\n",
    "help(cv2.imwrite)"
   ]
  },
  {
   "cell_type": "code",
   "execution_count": 11,
   "metadata": {},
   "outputs": [
    {
     "data": {
      "text/plain": [
       "array([[[165, 165, 165],\n",
       "        [165, 165, 165],\n",
       "        [165, 165, 165],\n",
       "        ...,\n",
       "        [177, 177, 177],\n",
       "        [169, 169, 169],\n",
       "        [143, 143, 143]],\n",
       "\n",
       "       [[166, 166, 166],\n",
       "        [165, 165, 165],\n",
       "        [165, 165, 165],\n",
       "        ...,\n",
       "        [181, 181, 181],\n",
       "        [170, 170, 170],\n",
       "        [142, 142, 142]],\n",
       "\n",
       "       [[166, 166, 166],\n",
       "        [165, 165, 165],\n",
       "        [164, 164, 164],\n",
       "        ...,\n",
       "        [162, 162, 162],\n",
       "        [144, 144, 144],\n",
       "        [116, 116, 116]],\n",
       "\n",
       "       ...,\n",
       "\n",
       "       [[ 24,  24,  24],\n",
       "        [ 27,  27,  27],\n",
       "        [ 33,  33,  33],\n",
       "        ...,\n",
       "        [ 70,  70,  70],\n",
       "        [ 83,  83,  83],\n",
       "        [ 88,  88,  88]],\n",
       "\n",
       "       [[ 23,  23,  23],\n",
       "        [ 24,  24,  24],\n",
       "        [ 30,  30,  30],\n",
       "        ...,\n",
       "        [ 84,  84,  84],\n",
       "        [ 95,  95,  95],\n",
       "        [ 98,  98,  98]],\n",
       "\n",
       "       [[ 22,  22,  22],\n",
       "        [ 22,  22,  22],\n",
       "        [ 28,  28,  28],\n",
       "        ...,\n",
       "        [ 93,  93,  93],\n",
       "        [103, 103, 103],\n",
       "        [104, 104, 104]]], dtype=uint8)"
      ]
     },
     "execution_count": 11,
     "metadata": {},
     "output_type": "execute_result"
    }
   ],
   "source": [
    "# b, obtain the image\n",
    "# c, read the image\n",
    "lenagray_img_path = '../../assets/hw2/lenagray.jpg'\n",
    "J1 = cv2.imread(lenagray_img_path)\n",
    "\n",
    "J1"
   ]
  },
  {
   "cell_type": "code",
   "execution_count": 12,
   "metadata": {},
   "outputs": [],
   "source": [
    "# reverse img pixel\n",
    "J2 = 255 - J1"
   ]
  },
  {
   "cell_type": "code",
   "execution_count": 13,
   "metadata": {},
   "outputs": [
    {
     "ename": "",
     "evalue": "",
     "output_type": "error",
     "traceback": [
      "\u001b[1;31mThe Kernel crashed while executing code in the the current cell or a previous cell. Please review the code in the cell(s) to identify a possible cause of the failure. Click <a href='https://aka.ms/vscodeJupyterKernelCrash'>here</a> for more info. View Jupyter <a href='command:jupyter.viewOutput'>log</a> for further details."
     ]
    }
   ],
   "source": [
    "# show the images\n",
    "cv2.imshow('J2', J2)\n",
    "cv2.imwrite('J2.jpg', J2)\n",
    "cv2.waitKey(0)\n",
    "cv2.destroyAllWindows()"
   ]
  }
 ],
 "metadata": {
  "kernelspec": {
   "display_name": "image_processing",
   "language": "python",
   "name": "python3"
  },
  "language_info": {
   "codemirror_mode": {
    "name": "ipython",
    "version": 3
   },
   "file_extension": ".py",
   "mimetype": "text/x-python",
   "name": "python",
   "nbconvert_exporter": "python",
   "pygments_lexer": "ipython3",
   "version": "3.11.5"
  }
 },
 "nbformat": 4,
 "nbformat_minor": 2
}
